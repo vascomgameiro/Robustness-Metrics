{
 "cells": [
  {
   "cell_type": "code",
   "execution_count": null,
   "metadata": {},
   "outputs": [],
   "source": [
    "%load_ext autoreload\n",
    "from pathlib import Path\n",
    "\n",
    "import torch\n",
    "\n",
    "from src.data_loader_cifar import get_cifar_dataloaders\n",
    "import src.model_constructor as constructor\n",
    "import itertools"
   ]
  },
  {
   "cell_type": "code",
   "execution_count": 2,
   "metadata": {},
   "outputs": [],
   "source": [
    "%autoreload 2\n",
    "def models_iterator(depths, filters_sizes, optimizers, drops, lrs):\n",
    "    models_to_train = []\n",
    "    for depth in depths:\n",
    "        fs = filters_sizes[str(depth)]\n",
    "        d = drops[str(depth)]\n",
    "        configurations = list(itertools.product(fs, optimizers, d, lrs))\n",
    "\n",
    "        for config in configurations:\n",
    "            filters_size, optimizer, drop, lr = config\n",
    "\n",
    "            nr_filters = filters_size[:depth]\n",
    "            conv_layers = constructor.Conv(nr_conv=depth, nr_filters=nr_filters, maxpool_batchnorm=True)\n",
    "            fc_size = filters_size[depth:]\n",
    "            act_fun = [\"ReLU\"] * depth\n",
    "            dropouts = drop\n",
    "            fc_layers = constructor.FC(\n",
    "                nr_fc=depth,\n",
    "                fc_size=fc_size,\n",
    "                act_funs=act_fun,\n",
    "                dropouts=dropouts,\n",
    "                in_features=conv_layers.finaldim,\n",
    "                num_classes=10,\n",
    "                batchnorm=True,\n",
    "            )\n",
    "\n",
    "            # Create the model using the CNN constructor\n",
    "            model = constructor.CNN(\n",
    "                conv_layers=conv_layers, fc_layers=fc_layers, num_classes=10, lr=lr, optim=optimizer\n",
    "            )\n",
    "\n",
    "            # Store the model and its parameters in the list\n",
    "            model_info = {\"name\": f\"{model.name}\", \"model\": model, \"params\": {\"lr\": lr, \"optimizer\": optimizer}}\n",
    "\n",
    "            models_to_train.append(model_info)\n",
    "\n",
    "    return models_to_train\n",
    "\n",
    "\n",
    "depths = [2, 4]\n",
    "filters_sizes = {\n",
    "    \"2\": [[8, 16, 160, 80], [32, 64, 320, 160]],\n",
    "    \"4\": [[4, 8, 16, 32, 200, 200, 160, 80], [8, 16, 32, 64, 400, 320, 160, 80]],\n",
    "}\n",
    "lrs = [0.01, 0.001, \"scheduler\"]\n",
    "drops = {\"2\": [[0.0, 0.0], [0.5, 0.2]], \"4\": [[0.0] * 4, [0.5, 0.3, 0.3, 0.2]]}\n",
    "optimizers = [\"adam\", \"sgd\"]\n",
    "\n",
    "\n",
    "models_to_train = models_iterator(depths, filters_sizes, optimizers, drops, lrs)"
   ]
  },
  {
   "cell_type": "code",
   "execution_count": 3,
   "metadata": {},
   "outputs": [
    {
     "name": "stdout",
     "output_type": "stream",
     "text": [
      "Device: cuda\n"
     ]
    }
   ],
   "source": [
    "%autoreload 2\n",
    "import warnings\n",
    "warnings.filterwarnings(\"ignore\")\n",
    "\n",
    "name = models_to_train[0]['name']\n",
    "model = models_to_train[0]['model']\n",
    "\n",
    "model_path = f\"models/{name}\"\n",
    "device = torch.device(\"cuda\") if torch.cuda.is_available() else torch.device(\"cpu\")\n",
    "print(f\"Device: {device}\")\n",
    "\n",
    "trained_model = models_to_train[0]['model']\n",
    "untrained_model = models_to_train[0]['model']\n",
    "\n",
    "trained_model.load_state_dict(torch.load(model_path+'/trained.pt', map_location=device))\n",
    "untrained_model.load_state_dict(torch.load(model_path+'/untrained.pt', map_location=device))\n",
    "\n",
    "trained_model.to(device)\n",
    "untrained_model.to(device)\n",
    "\n",
    "train_dataloader, val_dataloader, test_dataloader = get_cifar_dataloaders(path=Path(\"data/processed/cifar\"), batch_size=64, device=device)"
   ]
  },
  {
   "cell_type": "code",
   "execution_count": 4,
   "metadata": {},
   "outputs": [
    {
     "ename": "RuntimeError",
     "evalue": "Expected all tensors to be on the same device, but found at least two devices, cuda:0 and cpu!",
     "output_type": "error",
     "traceback": [
      "\u001b[1;31m---------------------------------------------------------------------------\u001b[0m",
      "\u001b[1;31mRuntimeError\u001b[0m                              Traceback (most recent call last)",
      "Cell \u001b[1;32mIn[4], line 7\u001b[0m\n\u001b[0;32m      5\u001b[0m     \u001b[38;5;28;01mfor\u001b[39;00m X, y \u001b[38;5;129;01min\u001b[39;00m train_dataloader:\n\u001b[0;32m      6\u001b[0m         preds \u001b[38;5;241m=\u001b[39m trained_model(X)\u001b[38;5;241m.\u001b[39margmax(dim\u001b[38;5;241m=\u001b[39m\u001b[38;5;241m1\u001b[39m)\n\u001b[1;32m----> 7\u001b[0m         correct \u001b[38;5;241m+\u001b[39m\u001b[38;5;241m=\u001b[39m (\u001b[43mpreds\u001b[49m\u001b[43m \u001b[49m\u001b[38;5;241;43m==\u001b[39;49m\u001b[43m \u001b[49m\u001b[43my\u001b[49m)\u001b[38;5;241m.\u001b[39msum()\u001b[38;5;241m.\u001b[39mitem()\n\u001b[0;32m      8\u001b[0m         total \u001b[38;5;241m+\u001b[39m\u001b[38;5;241m=\u001b[39m y\u001b[38;5;241m.\u001b[39msize(\u001b[38;5;241m0\u001b[39m)\n\u001b[0;32m     10\u001b[0m accuracy \u001b[38;5;241m=\u001b[39m correct \u001b[38;5;241m/\u001b[39m total\n",
      "\u001b[1;31mRuntimeError\u001b[0m: Expected all tensors to be on the same device, but found at least two devices, cuda:0 and cpu!"
     ]
    }
   ],
   "source": [
    "trained_model.eval()\n",
    "correct = total = 0\n",
    "\n",
    "with torch.no_grad():\n",
    "    for X, y in train_dataloader:\n",
    "        preds = trained_model(X).argmax(dim=1)\n",
    "        correct += (preds == y).sum().item()\n",
    "        total += y.size(0)\n",
    "\n",
    "accuracy = correct / total"
   ]
  },
  {
   "cell_type": "code",
   "execution_count": null,
   "metadata": {},
   "outputs": [],
   "source": [
    "from src.measures_sharpeness import calculate_pac_bayes_metrics\n",
    "\n",
    "metrics = calculate_pac_bayes_metrics(trained_model, untrained_model, train_dataloader,)"
   ]
  }
 ],
 "metadata": {
  "kernelspec": {
   "display_name": ".venv",
   "language": "python",
   "name": "python3"
  },
  "language_info": {
   "codemirror_mode": {
    "name": "ipython",
    "version": 3
   },
   "file_extension": ".py",
   "mimetype": "text/x-python",
   "name": "python",
   "nbconvert_exporter": "python",
   "pygments_lexer": "ipython3",
   "version": "3.11.9"
  }
 },
 "nbformat": 4,
 "nbformat_minor": 2
}
