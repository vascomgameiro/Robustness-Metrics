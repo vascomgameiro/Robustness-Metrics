{
 "cells": [
  {
   "cell_type": "code",
   "execution_count": 5,
   "metadata": {},
   "outputs": [
    {
     "name": "stdout",
     "output_type": "stream",
     "text": [
      "The autoreload extension is already loaded. To reload it, use:\n",
      "  %reload_ext autoreload\n"
     ]
    }
   ],
   "source": [
    "%load_ext autoreload\n",
    "from pathlib import Path\n",
    "import itertools\n",
    "\n",
    "import torch\n",
    "\n",
    "from src.data_loader_cifar import dataloader\n",
    "from src.measures_norm import calculate_generalization_bounds\n",
    "\n",
    "import src.model_constructor as constructor\n",
    "import warnings\n",
    "\n",
    "warnings.filterwarnings(\"ignore\")"
   ]
  },
  {
   "cell_type": "code",
   "execution_count": 2,
   "metadata": {},
   "outputs": [],
   "source": [
    "%autoreload 2\n",
    "\n",
    "\n",
    "def models_iterator(depths, filters_sizes, optimizers, drops, lrs):\n",
    "    models_to_train = []\n",
    "    for depth in depths:\n",
    "        fs = filters_sizes[str(depth)]\n",
    "        d = drops[str(depth)]\n",
    "        configurations = list(itertools.product(fs, optimizers, d, lrs))\n",
    "\n",
    "        for config in configurations:\n",
    "            filters_size, optimizer, drop, lr = config\n",
    "\n",
    "            nr_filters = filters_size[:depth]\n",
    "            conv_layers = constructor.Conv(nr_conv=depth, nr_filters=nr_filters, maxpool_batchnorm=True)\n",
    "            fc_size = filters_size[depth:]\n",
    "            act_fun = [\"ReLU\"] * depth\n",
    "            dropouts = drop\n",
    "            fc_layers = constructor.FC(\n",
    "                nr_fc=depth,\n",
    "                fc_size=fc_size,\n",
    "                act_funs=act_fun,\n",
    "                dropouts=dropouts,\n",
    "                in_features=conv_layers.finaldim,\n",
    "                num_classes=10,\n",
    "                batchnorm=True,\n",
    "            )\n",
    "\n",
    "            # Create the model using the CNN constructor\n",
    "            model = constructor.CNN(\n",
    "                conv_layers=conv_layers, fc_layers=fc_layers, num_classes=10, lr=lr, optim=optimizer\n",
    "            )\n",
    "\n",
    "            # Store the model and its parameters in the list\n",
    "            model_info = {\n",
    "                \"name\": f\"{model.name}\",\n",
    "                \"model\": model,\n",
    "                \"params\": {\"lr\": lr, \"optimizer\": optimizer},\n",
    "            }\n",
    "\n",
    "            models_to_train.append(model_info)\n",
    "\n",
    "    return models_to_train\n",
    "\n",
    "\n",
    "def accuracy_score(model, train_dataloader, device):\n",
    "    model.eval()\n",
    "    correct = total = 0\n",
    "\n",
    "    with torch.no_grad():\n",
    "        for X, y in train_dataloader:\n",
    "            X, y = X.to(device), y.to(device)\n",
    "            preds = model(X).argmax(dim=1)\n",
    "            correct += (preds == y).sum().item()\n",
    "            total += y.size(0)\n",
    "\n",
    "    return correct / total\n",
    "\n",
    "\n",
    "depths = [2, 4]\n",
    "filters_sizes = {\n",
    "    \"2\": [[8, 16, 160, 80], [32, 64, 320, 160]],\n",
    "    \"4\": [[4, 8, 16, 32, 200, 200, 160, 80], [8, 16, 32, 64, 400, 320, 160, 80]],\n",
    "}\n",
    "lrs = [0.01, 0.001, \"scheduler\"]\n",
    "drops = {\"2\": [[0.0, 0.0], [0.5, 0.2]], \"4\": [[0.0] * 4, [0.5, 0.3, 0.3, 0.2]]}\n",
    "optimizers = [\"adam\", \"sgd\"]\n",
    "\n",
    "\n",
    "models_to_train = models_iterator(depths, filters_sizes, optimizers, drops, lrs)"
   ]
  },
  {
   "cell_type": "code",
   "execution_count": 4,
   "metadata": {},
   "outputs": [],
   "source": [
    "train_dataloader, val_dataloader, test_dataloader = dataloader(\n",
    "    path=Path(\"data/processed/cifar\"), minibatch_size=32\n",
    ")"
   ]
  },
  {
   "cell_type": "code",
   "execution_count": null,
   "metadata": {},
   "outputs": [
    {
     "name": "stdout",
     "output_type": "stream",
     "text": [
      "The directory does not exist: models/conv2True_8_16fcTrue_160ReLU00_80ReLU00_lr001adam/\n"
     ]
    }
   ],
   "source": [
    "import os\n",
    "\n",
    "# Path to the directory\n",
    "directory_path = \"models/conv2True_8_16fcTrue_160ReLU00_80ReLU00_lr001adam/\"\n",
    "\n",
    "# Check if the directory exists\n",
    "if os.path.exists(directory_path):\n",
    "    if os.path.isdir(directory_path):\n",
    "        print(f\"Contents of the directory '{directory_path}':\")\n",
    "        for item in os.listdir(directory_path):\n",
    "            print(item)\n",
    "    else:\n",
    "        print(f\"The path exists but is not a directory: {directory_path}\")\n",
    "else:\n",
    "    print(f\"The directory does not exist: {directory_path}\")\n"
   ]
  },
  {
   "cell_type": "code",
   "execution_count": 10,
   "metadata": {},
   "outputs": [
    {
     "name": "stdout",
     "output_type": "stream",
     "text": [
      "Device: cuda\n"
     ]
    },
    {
     "ename": "FileNotFoundError",
     "evalue": "[Errno 2] No such file or directory: 'models/conv2True_8_16fcTrue_160ReLU00_80ReLU00_lr001adam/trained.pt'",
     "output_type": "error",
     "traceback": [
      "\u001b[1;31m---------------------------------------------------------------------------\u001b[0m",
      "\u001b[1;31mFileNotFoundError\u001b[0m                         Traceback (most recent call last)",
      "Cell \u001b[1;32mIn[10], line 13\u001b[0m\n\u001b[0;32m     10\u001b[0m trained_model_0 \u001b[38;5;241m=\u001b[39m deepcopy(models_to_train[\u001b[38;5;241m0\u001b[39m][\u001b[38;5;124m\"\u001b[39m\u001b[38;5;124mmodel\u001b[39m\u001b[38;5;124m\"\u001b[39m])\n\u001b[0;32m     11\u001b[0m untrained_model_0 \u001b[38;5;241m=\u001b[39m deepcopy(models_to_train[\u001b[38;5;241m0\u001b[39m][\u001b[38;5;124m\"\u001b[39m\u001b[38;5;124mmodel\u001b[39m\u001b[38;5;124m\"\u001b[39m])\n\u001b[1;32m---> 13\u001b[0m trained_model_0\u001b[38;5;241m.\u001b[39mload_state_dict(\u001b[43mtorch\u001b[49m\u001b[38;5;241;43m.\u001b[39;49m\u001b[43mload\u001b[49m\u001b[43m(\u001b[49m\u001b[43mmodel_path\u001b[49m\u001b[43m \u001b[49m\u001b[38;5;241;43m+\u001b[39;49m\u001b[43m \u001b[49m\u001b[38;5;124;43m\"\u001b[39;49m\u001b[38;5;124;43m/trained.pt\u001b[39;49m\u001b[38;5;124;43m\"\u001b[39;49m\u001b[43m,\u001b[49m\u001b[43m \u001b[49m\u001b[43mmap_location\u001b[49m\u001b[38;5;241;43m=\u001b[39;49m\u001b[43mdevice\u001b[49m\u001b[43m)\u001b[49m)\n\u001b[0;32m     14\u001b[0m untrained_model_0\u001b[38;5;241m.\u001b[39mload_state_dict(torch\u001b[38;5;241m.\u001b[39mload(model_path \u001b[38;5;241m+\u001b[39m \u001b[38;5;124m\"\u001b[39m\u001b[38;5;124m/untrained.pt\u001b[39m\u001b[38;5;124m\"\u001b[39m, map_location\u001b[38;5;241m=\u001b[39mdevice))\n\u001b[0;32m     17\u001b[0m trained_model_0\u001b[38;5;241m.\u001b[39mto(device)\n",
      "File \u001b[1;32mc:\\Users\\vasco\\repos\\Robustness-Metrics\\.venv\\Lib\\site-packages\\torch\\serialization.py:1319\u001b[0m, in \u001b[0;36mload\u001b[1;34m(f, map_location, pickle_module, weights_only, mmap, **pickle_load_args)\u001b[0m\n\u001b[0;32m   1316\u001b[0m \u001b[38;5;28;01mif\u001b[39;00m \u001b[38;5;124m\"\u001b[39m\u001b[38;5;124mencoding\u001b[39m\u001b[38;5;124m\"\u001b[39m \u001b[38;5;129;01mnot\u001b[39;00m \u001b[38;5;129;01min\u001b[39;00m pickle_load_args\u001b[38;5;241m.\u001b[39mkeys():\n\u001b[0;32m   1317\u001b[0m     pickle_load_args[\u001b[38;5;124m\"\u001b[39m\u001b[38;5;124mencoding\u001b[39m\u001b[38;5;124m\"\u001b[39m] \u001b[38;5;241m=\u001b[39m \u001b[38;5;124m\"\u001b[39m\u001b[38;5;124mutf-8\u001b[39m\u001b[38;5;124m\"\u001b[39m\n\u001b[1;32m-> 1319\u001b[0m \u001b[38;5;28;01mwith\u001b[39;00m \u001b[43m_open_file_like\u001b[49m\u001b[43m(\u001b[49m\u001b[43mf\u001b[49m\u001b[43m,\u001b[49m\u001b[43m \u001b[49m\u001b[38;5;124;43m\"\u001b[39;49m\u001b[38;5;124;43mrb\u001b[39;49m\u001b[38;5;124;43m\"\u001b[39;49m\u001b[43m)\u001b[49m \u001b[38;5;28;01mas\u001b[39;00m opened_file:\n\u001b[0;32m   1320\u001b[0m     \u001b[38;5;28;01mif\u001b[39;00m _is_zipfile(opened_file):\n\u001b[0;32m   1321\u001b[0m         \u001b[38;5;66;03m# The zipfile reader is going to advance the current file position.\u001b[39;00m\n\u001b[0;32m   1322\u001b[0m         \u001b[38;5;66;03m# If we want to actually tail call to torch.jit.load, we need to\u001b[39;00m\n\u001b[0;32m   1323\u001b[0m         \u001b[38;5;66;03m# reset back to the original position.\u001b[39;00m\n\u001b[0;32m   1324\u001b[0m         orig_position \u001b[38;5;241m=\u001b[39m opened_file\u001b[38;5;241m.\u001b[39mtell()\n",
      "File \u001b[1;32mc:\\Users\\vasco\\repos\\Robustness-Metrics\\.venv\\Lib\\site-packages\\torch\\serialization.py:659\u001b[0m, in \u001b[0;36m_open_file_like\u001b[1;34m(name_or_buffer, mode)\u001b[0m\n\u001b[0;32m    657\u001b[0m \u001b[38;5;28;01mdef\u001b[39;00m \u001b[38;5;21m_open_file_like\u001b[39m(name_or_buffer, mode):\n\u001b[0;32m    658\u001b[0m     \u001b[38;5;28;01mif\u001b[39;00m _is_path(name_or_buffer):\n\u001b[1;32m--> 659\u001b[0m         \u001b[38;5;28;01mreturn\u001b[39;00m \u001b[43m_open_file\u001b[49m\u001b[43m(\u001b[49m\u001b[43mname_or_buffer\u001b[49m\u001b[43m,\u001b[49m\u001b[43m \u001b[49m\u001b[43mmode\u001b[49m\u001b[43m)\u001b[49m\n\u001b[0;32m    660\u001b[0m     \u001b[38;5;28;01melse\u001b[39;00m:\n\u001b[0;32m    661\u001b[0m         \u001b[38;5;28;01mif\u001b[39;00m \u001b[38;5;124m\"\u001b[39m\u001b[38;5;124mw\u001b[39m\u001b[38;5;124m\"\u001b[39m \u001b[38;5;129;01min\u001b[39;00m mode:\n",
      "File \u001b[1;32mc:\\Users\\vasco\\repos\\Robustness-Metrics\\.venv\\Lib\\site-packages\\torch\\serialization.py:640\u001b[0m, in \u001b[0;36m_open_file.__init__\u001b[1;34m(self, name, mode)\u001b[0m\n\u001b[0;32m    639\u001b[0m \u001b[38;5;28;01mdef\u001b[39;00m \u001b[38;5;21m__init__\u001b[39m(\u001b[38;5;28mself\u001b[39m, name, mode):\n\u001b[1;32m--> 640\u001b[0m     \u001b[38;5;28msuper\u001b[39m()\u001b[38;5;241m.\u001b[39m\u001b[38;5;21m__init__\u001b[39m(\u001b[38;5;28;43mopen\u001b[39;49m\u001b[43m(\u001b[49m\u001b[43mname\u001b[49m\u001b[43m,\u001b[49m\u001b[43m \u001b[49m\u001b[43mmode\u001b[49m\u001b[43m)\u001b[49m)\n",
      "\u001b[1;31mFileNotFoundError\u001b[0m: [Errno 2] No such file or directory: 'models/conv2True_8_16fcTrue_160ReLU00_80ReLU00_lr001adam/trained.pt'"
     ]
    }
   ],
   "source": [
    "from copy import deepcopy\n",
    "\n",
    "name = models_to_train[0][\"name\"]\n",
    "model = models_to_train[0][\"model\"]\n",
    "\n",
    "model_path = f\"models/{name}\"\n",
    "device = torch.device(\"cuda\") if torch.cuda.is_available() else torch.device(\"cpu\")\n",
    "print(f\"Device: {device}\")\n",
    "\n",
    "trained_model_0 = deepcopy(models_to_train[0][\"model\"])\n",
    "untrained_model_0 = deepcopy(models_to_train[0][\"model\"])\n",
    "\n",
    "trained_model_0.load_state_dict(torch.load(model_path + \"/trained.pt\", map_location=device))\n",
    "untrained_model_0.load_state_dict(torch.load(model_path + \"/untrained.pt\", map_location=device))\n",
    "\n",
    "\n",
    "trained_model_0.to(device)\n",
    "untrained_model_0.to(device)\n",
    "\n",
    "measures = calculate_generalization_bounds(\n",
    "    trained_model_0, untrained_model_0, train_dataloader, val_dataloader, 3, 32, device\n",
    ")"
   ]
  },
  {
   "cell_type": "code",
   "execution_count": null,
   "metadata": {},
   "outputs": [],
   "source": [
    "conv2True_32_64fcTrue_320ReLU00_160ReLU00_lr0001_adam"
   ]
  }
 ],
 "metadata": {
  "kernelspec": {
   "display_name": ".venv",
   "language": "python",
   "name": "python3"
  },
  "language_info": {
   "codemirror_mode": {
    "name": "ipython",
    "version": 3
   },
   "file_extension": ".py",
   "mimetype": "text/x-python",
   "name": "python",
   "nbconvert_exporter": "python",
   "pygments_lexer": "ipython3",
   "version": "3.11.9"
  }
 },
 "nbformat": 4,
 "nbformat_minor": 2
}
