{
 "cells": [
  {
   "cell_type": "code",
   "execution_count": 7,
   "metadata": {},
   "outputs": [
    {
     "name": "stderr",
     "output_type": "stream",
     "text": [
      "C:\\Users\\vasco\\AppData\\Local\\Temp\\ipykernel_12688\\2120041566.py:9: FutureWarning: You are using `torch.load` with `weights_only=False` (the current default value), which uses the default pickle module implicitly. It is possible to construct malicious pickle data which will execute arbitrary code during unpickling (See https://github.com/pytorch/pytorch/blob/main/SECURITY.md#untrusted-models for more details). In a future release, the default value for `weights_only` will be flipped to `True`. This limits the functions that could be executed during unpickling. Arbitrary objects will no longer be allowed to be loaded via this mode unless they are explicitly allowlisted by the user via `torch.serialization.add_safe_globals`. We recommend you start setting `weights_only=True` for any use case where you don't have full control of the loaded file. Please open an issue on GitHub for any issues related to this experimental feature.\n",
      "  data = torch.load(data_path)\n"
     ]
    }
   ],
   "source": [
    "import torch\n",
    "from torch.utils.data import Dataset, DataLoader\n",
    "\n",
    "\n",
    "# Custom Dataset class for .pt files\n",
    "class TensorDataset(Dataset):\n",
    "    def __init__(self, data_path):\n",
    "        # Load preprocessed data (assumes the .pt file contains a tuple: (features, labels))\n",
    "        data = torch.load(data_path)\n",
    "        self.features = data[0]\n",
    "        self.labels = data[1]\n",
    "\n",
    "    def __len__(self):\n",
    "        return len(self.labels)\n",
    "\n",
    "    def __getitem__(self, idx):\n",
    "        return self.features[idx], self.labels[idx]\n",
    "\n",
    "\n",
    "# Load train and test datasets\n",
    "train_dataset = TensorDataset(\"data/processed/train.pt\")\n",
    "test_dataset = TensorDataset(\"data/processed/test.pt\")\n",
    "\n",
    "# Create DataLoaders\n",
    "train_loader = DataLoader(train_dataset, batch_size=32, shuffle=True)\n",
    "test_loader = DataLoader(test_dataset, batch_size=32, shuffle=False)"
   ]
  },
  {
   "cell_type": "code",
   "execution_count": 8,
   "metadata": {},
   "outputs": [],
   "source": [
    "import torchvision.models as models\n",
    "import torch.nn as nn\n",
    "\n",
    "# Load MobileNetV3\n",
    "device = \"cuda\" if torch.cuda.is_available() else \"cpu\"\n",
    "model = models.mobilenet_v3_small(pretrained=True)\n",
    "\n",
    "# Adjust the classifier to match the number of classes in your dataset\n",
    "num_classes = train_dataset.labels.max().item() + 1  # Assuming labels start at 0\n",
    "model.classifier[3] = nn.Linear(model.classifier[3].in_features, num_classes)\n",
    "model = model.to(device)\n"
   ]
  },
  {
   "cell_type": "code",
   "execution_count": 9,
   "metadata": {},
   "outputs": [],
   "source": [
    "import torch.optim as optim\n",
    "\n",
    "# Define the loss function\n",
    "criterion = nn.CrossEntropyLoss()\n",
    "\n",
    "# Define the optimiser\n",
    "optimizer = optim.Adam(model.parameters(), lr=0.001)"
   ]
  },
  {
   "cell_type": "code",
   "execution_count": 2,
   "metadata": {},
   "outputs": [
    {
     "data": {
      "text/plain": [
       "False"
      ]
     },
     "execution_count": 2,
     "metadata": {},
     "output_type": "execute_result"
    }
   ],
   "source": [
    "import torch\n",
    "\n",
    "torch.cuda.is_available()"
   ]
  },
  {
   "cell_type": "code",
   "execution_count": 11,
   "metadata": {},
   "outputs": [
    {
     "name": "stdout",
     "output_type": "stream",
     "text": [
      "Epoch 1/50, Loss: 2.6227766861387756\n",
      "Epoch 2/50, Loss: 2.419217560908584\n",
      "Epoch 3/50, Loss: 2.228548150907985\n",
      "Epoch 4/50, Loss: 2.014159303109597\n",
      "Epoch 5/50, Loss: 1.8083262962986335\n",
      "Epoch 6/50, Loss: 1.5997306678241459\n",
      "Epoch 7/50, Loss: 1.4198890113696372\n",
      "Epoch 8/50, Loss: 1.2490545576385887\n",
      "Epoch 9/50, Loss: 1.1068845372821778\n",
      "Epoch 10/50, Loss: 0.9767677386694956\n",
      "Epoch 11/50, Loss: 0.9274435234841442\n",
      "Epoch 12/50, Loss: 0.7815996323333001\n",
      "Epoch 13/50, Loss: 0.7279738289134587\n",
      "Epoch 14/50, Loss: 0.7239847597133151\n",
      "Epoch 15/50, Loss: 0.8494234725022182\n",
      "Epoch 16/50, Loss: 0.6128400540150576\n",
      "Epoch 17/50, Loss: 0.53132944284304\n",
      "Epoch 18/50, Loss: 0.701073273862616\n",
      "Epoch 19/50, Loss: 0.5960126518434364\n",
      "Epoch 20/50, Loss: 0.5160091888669731\n",
      "Epoch 21/50, Loss: 0.48227172370084453\n",
      "Epoch 22/50, Loss: 0.4771961641985413\n",
      "Epoch 23/50, Loss: 0.4698681140189211\n",
      "Epoch 24/50, Loss: 0.461262181516576\n",
      "Epoch 25/50, Loss: 0.4377459495574739\n",
      "Epoch 26/50, Loss: 0.47255786532784266\n",
      "Epoch 27/50, Loss: 0.4181897758976268\n",
      "Epoch 28/50, Loss: 0.39249689918619496\n",
      "Epoch 29/50, Loss: 0.388100355992873\n",
      "Epoch 30/50, Loss: 0.42104351350698643\n",
      "Epoch 31/50, Loss: 0.5105138384295002\n",
      "Epoch 32/50, Loss: 0.5306108374791622\n",
      "Epoch 33/50, Loss: 0.4994795594895591\n",
      "Epoch 34/50, Loss: 0.3389695136568476\n",
      "Epoch 35/50, Loss: 0.39588188657477696\n",
      "Epoch 36/50, Loss: 0.5685991220749341\n",
      "Epoch 37/50, Loss: 0.3016042592690639\n",
      "Epoch 38/50, Loss: 0.3837555269667037\n",
      "Epoch 39/50, Loss: 0.3573016174413669\n",
      "Epoch 40/50, Loss: 0.3422896805137228\n",
      "Epoch 41/50, Loss: 0.2715221571362111\n",
      "Epoch 42/50, Loss: 0.3578000073801677\n",
      "Epoch 43/50, Loss: 0.4545570597800428\n",
      "Epoch 44/50, Loss: 0.363921122195629\n",
      "Epoch 45/50, Loss: 0.3594388682080702\n",
      "Epoch 46/50, Loss: 0.3378959712388927\n",
      "Epoch 47/50, Loss: 0.5633671113602663\n",
      "Epoch 48/50, Loss: 0.2955074259420721\n",
      "Epoch 49/50, Loss: 0.3390337097865667\n",
      "Epoch 50/50, Loss: 0.6902741293298817\n"
     ]
    }
   ],
   "source": [
    "# Training loop\n",
    "num_epochs = 50\n",
    "\n",
    "for epoch in range(num_epochs):\n",
    "    model.train()\n",
    "    running_loss = 0.0\n",
    "\n",
    "    for features, labels in train_loader:\n",
    "        features, labels = features.to(device), labels.to(device)\n",
    "\n",
    "        # Zero gradients\n",
    "        optimizer.zero_grad()\n",
    "\n",
    "        # Forward pass\n",
    "        outputs = model(features)\n",
    "        loss = criterion(outputs, labels)\n",
    "\n",
    "        # Backward pass and optimisation\n",
    "        loss.backward()\n",
    "        optimizer.step()\n",
    "\n",
    "        running_loss += loss.item()\n",
    "\n",
    "    print(f\"Epoch {epoch + 1}/{num_epochs}, Loss: {running_loss / len(train_loader)}\")"
   ]
  },
  {
   "cell_type": "code",
   "execution_count": 14,
   "metadata": {},
   "outputs": [
    {
     "data": {
      "text/plain": [
       "50.143859119857645"
      ]
     },
     "execution_count": 14,
     "metadata": {},
     "output_type": "execute_result"
    }
   ],
   "source": [
    "import math\n",
    "\n",
    "math.exp(-0.6902741293298817) * 100"
   ]
  },
  {
   "cell_type": "code",
   "execution_count": 12,
   "metadata": {},
   "outputs": [
    {
     "name": "stdout",
     "output_type": "stream",
     "text": [
      "Test Accuracy: 4.91%\n"
     ]
    }
   ],
   "source": [
    "# Evaluation\n",
    "model.eval()\n",
    "correct = 0\n",
    "total = 0\n",
    "\n",
    "with torch.no_grad():\n",
    "    for features, labels in test_loader:\n",
    "        features, labels = features.to(device), labels.to(device)\n",
    "        outputs = model(features)\n",
    "        _, predicted = torch.max(outputs.data, 1)\n",
    "        total += labels.size(0)\n",
    "        correct += (predicted == labels).sum().item()\n",
    "\n",
    "print(f\"Test Accuracy: {100 * correct / total:.2f}%\")"
   ]
  },
  {
   "cell_type": "code",
   "execution_count": 13,
   "metadata": {},
   "outputs": [],
   "source": [
    "torch.save(model.state_dict(), \"models/trained_lightweight_model.pth\")"
   ]
  }
 ],
 "metadata": {
  "kernelspec": {
   "display_name": ".venv",
   "language": "python",
   "name": "python3"
  },
  "language_info": {
   "codemirror_mode": {
    "name": "ipython",
    "version": 3
   },
   "file_extension": ".py",
   "mimetype": "text/x-python",
   "name": "python",
   "nbconvert_exporter": "python",
   "pygments_lexer": "ipython3",
   "version": "3.11.9"
  }
 },
 "nbformat": 4,
 "nbformat_minor": 2
}
