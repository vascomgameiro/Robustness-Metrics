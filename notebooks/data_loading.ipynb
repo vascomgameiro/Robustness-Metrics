{
 "cells": [
  {
   "cell_type": "code",
   "execution_count": null,
   "metadata": {},
   "outputs": [],
   "source": [
    "import os\n",
    "\n",
    "import numpy as np\n",
    "\n",
    "# import pandas as pd\n",
    "# import torch\n",
    "from PIL import Image\n",
    "# from sklearn.preprocessing import LabelEncoder\n"
   ]
  },
  {
   "cell_type": "code",
   "execution_count": null,
   "metadata": {},
   "outputs": [],
   "source": [
    "RESIZE_SHAPE = (64, 64)\n",
    "FLATTENED_LENGTH = RESIZE_SHAPE[0] * RESIZE_SHAPE[1] * 3\n",
    "\n",
    "TRAIN_DIR = \"data/raw/tiny-imagenet-200/train\"\n",
    "VAL_DIR = \"data/raw/tiny-imagenet-200/val\"\n",
    "TEST_DIR = \"data/raw/imagenet-r\"\n",
    "PROCESSED_DIR = \"data/processed\""
   ]
  },
  {
   "cell_type": "code",
   "execution_count": null,
   "metadata": {},
   "outputs": [],
   "source": [
    "def load_images_from_folder(folder_path, label, flattened_length=64 * 64 * 3):\n",
    "    images = []\n",
    "    labels = []\n",
    "    for filename in os.listdir(folder_path):\n",
    "        img_path = os.path.join(folder_path, filename)\n",
    "        img = Image.open(img_path).convert(\"RGB\")  # Ensure 3 channels (RGB)\n",
    "\n",
    "        # Resize to 64x64, then flatten and normalize\n",
    "        img = img.resize((64, 64))\n",
    "        img_array = np.array(img).flatten() / 255.0  # Convert to numpy and normalize\n",
    "\n",
    "        if img_array.shape[0] == flattened_length:  # Check that the flattened length is consistent\n",
    "            images.append(img_array)\n",
    "            labels.append(label)\n",
    "        else:\n",
    "            print(f\"Skipping {filename}: incorrect shape {img_array.shape}\")\n",
    "\n",
    "    return images, labels"
   ]
  }
 ],
 "metadata": {
  "kernelspec": {
   "display_name": ".venv",
   "language": "python",
   "name": "python3"
  },
  "language_info": {
   "codemirror_mode": {
    "name": "ipython",
    "version": 3
   },
   "file_extension": ".py",
   "mimetype": "text/x-python",
   "name": "python",
   "nbconvert_exporter": "python",
   "pygments_lexer": "ipython3",
   "version": "3.11.9"
  }
 },
 "nbformat": 4,
 "nbformat_minor": 2
}
